{
  "nbformat": 4,
  "nbformat_minor": 0,
  "metadata": {
    "colab": {
      "name": "曲線圖.ipynb",
      "provenance": [],
      "authorship_tag": "ABX9TyOZ2mxhHeM8gzXZT0Bg94bU",
      "include_colab_link": true
    },
    "kernelspec": {
      "name": "python3",
      "display_name": "Python 3"
    },
    "language_info": {
      "name": "python"
    }
  },
  "cells": [
    {
      "cell_type": "markdown",
      "metadata": {
        "id": "view-in-github",
        "colab_type": "text"
      },
      "source": [
        "<a href=\"https://colab.research.google.com/github/tim2678/AMO/blob/main/%E6%9B%B2%E7%B7%9A%E5%9C%96.ipynb\" target=\"_parent\"><img src=\"https://colab.research.google.com/assets/colab-badge.svg\" alt=\"Open In Colab\"/></a>"
      ]
    },
    {
      "cell_type": "code",
      "execution_count": 2,
      "metadata": {
        "colab": {
          "base_uri": "https://localhost:8080/",
          "height": 132
        },
        "id": "xuprTeujFlFV",
        "outputId": "768d19a4-383b-448b-b7be-ea737f86e379"
      },
      "outputs": [
        {
          "output_type": "error",
          "ename": "SyntaxError",
          "evalue": "ignored",
          "traceback": [
            "\u001b[0;36m  File \u001b[0;32m\"<ipython-input-2-0cfc9196cd11>\"\u001b[0;36m, line \u001b[0;32m10\u001b[0m\n\u001b[0;31m    plt.xticks([-np.pi,-np.pi/2,0,np.pi/2,np.pi,np.pi*1.5,np.pi*2],[r\"$-\\pi$\",r\"$-\\pi/2$\",r\"$0$\",r\"$+\\pi/2$\",r\"$+\\pi$\",r\"$+\\pi/2$\"，r\"$≠3\\pi/2$\",r\"$+2\\pi$\"])\u001b[0m\n\u001b[0m                                                                                                                                   ^\u001b[0m\n\u001b[0;31mSyntaxError\u001b[0m\u001b[0;31m:\u001b[0m invalid character in identifier\n"
          ]
        }
      ],
      "source": [
        "import numpy as np\n",
        "import matplotlib.pyplot as plt\n",
        "X = np.linspace(0, 2 * np.pi, 100)\n",
        "Y1 = np.sin(X)\n",
        "Y2 = np.sin(X)*np.sin(X)\n",
        "Y3 = -np.cos(X)\n",
        "Y = np.sin(X)*np.sin(X) -np.cos(X)\n",
        "\n",
        "plt.figure(figsize=(10,7))\n",
        "plt.xticks([-np.pi,-np.pi/2,0,np.pi/2,np.pi,np.pi*1.5,np.pi*2],[r\"$-\\pi$\",r\"$-\\pi/2$\",r\"$0$\",r\"$+\\pi/2$\",r\"$+\\pi$\",r\"$+\\pi/2$\"，r\"$≠3\\pi/2$\",r\"$+2\\pi$\"])\n",
        "\n",
        "plt.plot(X，Y1)\n",
        "plt.plot(X，Y2)\n",
        "plt.plot(X，Y3)\n",
        "plt.plot(X，Y)\n",
        "plt.legend([\"y=sinx\"，\"y=(sinx)^2\"，\"y=cosx\"，\"y=(sinx)^2-cosx])\n"
      ]
    }
  ]
}